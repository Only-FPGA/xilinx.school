{
 "cells": [
  {
   "cell_type": "markdown",
   "metadata": {},
   "source": [
    "# First Custom Pipeline\n",
    "----\n",
    "\n",
    "<div class=\"alert alert-box alert-info\">\n",
    "Please use Jupyter labs http://&lt;board_ip_address&gt;/lab for this notebook.\n",
    "</div>\n",
    "\n",
    "This notebook shows your how to create your first custom pipeline\n",
    "\n",
    "## Aims\n",
    "* Create ComposableOverlay object\n",
    "* Start the HDMI path\n",
    "* Compose pipeline\n",
    "* Play with the pipeline\n",
    "\n",
    "## Table of Contents\n",
    "* [Download Composable Overlay](#download)\n",
    "* [Start HDMI Video](#start_hdmi)\n",
    "* [Let us Compose](#compose)\n",
    "* [Visualize the Pipeline](#visualize)\n",
    "* [Play with the LUT IP](#play)\n",
    "* [Stop HDMI Video](#stop_hdmi)\n",
    "* [Conclusion](#conclusion)\n",
    "\n",
    "----\n",
    "\n",
    "## Revision History\n",
    "\n",
    "* v1.0 | 30 March 2021 | First notebook revision.\n",
    "\n",
    "----"
   ]
  },
  {
   "cell_type": "markdown",
   "metadata": {},
   "source": [
    "## Download Composable Overlay <a class=\"anchor\" id=\"download\"></a>\n",
    "\n",
    "Import the pynq video libraries as well as ComposableOverlay class and the drivers for the IP.\n",
    "\n",
    "Download the Composable Overlay using the `ComposableOverlay` and grab a handler to the `composable` hierarchy"
   ]
  },
  {
   "cell_type": "code",
   "execution_count": 1,
   "metadata": {},
   "outputs": [
    {
     "data": {
      "application/javascript": [
       "\n",
       "try {\n",
       "require(['notebook/js/codecell'], function(codecell) {\n",
       "  codecell.CodeCell.options_default.highlight_modes[\n",
       "      'magic_text/x-csrc'] = {'reg':[/^%%microblaze/]};\n",
       "  Jupyter.notebook.events.one('kernel_ready.Kernel', function(){\n",
       "      Jupyter.notebook.get_cells().map(function(cell){\n",
       "          if (cell.cell_type == 'code'){ cell.auto_highlight(); } }) ;\n",
       "  });\n",
       "});\n",
       "} catch (e) {};\n"
      ]
     },
     "metadata": {},
     "output_type": "display_data"
    },
    {
     "data": {
      "application/javascript": [
       "\n",
       "try {\n",
       "require(['notebook/js/codecell'], function(codecell) {\n",
       "  codecell.CodeCell.options_default.highlight_modes[\n",
       "      'magic_text/x-csrc'] = {'reg':[/^%%pybind11/]};\n",
       "  Jupyter.notebook.events.one('kernel_ready.Kernel', function(){\n",
       "      Jupyter.notebook.get_cells().map(function(cell){\n",
       "          if (cell.cell_type == 'code'){ cell.auto_highlight(); } }) ;\n",
       "  });\n",
       "});\n",
       "} catch (e) {};\n"
      ]
     },
     "metadata": {},
     "output_type": "display_data"
    }
   ],
   "source": [
    "from pynq.lib.video import *\n",
    "from composable_pipeline import ComposableOverlay\n",
    "from composable_pipeline.libs import *\n",
    "\n",
    "ol = ComposableOverlay(\"../overlay/cv_dfx_4_pr.bit\")\n",
    "\n",
    "cpipe = ol.composable"
   ]
  },
  {
   "cell_type": "markdown",
   "metadata": {},
   "source": [
    "## Start HDMI Video <a class=\"anchor\" id=\"start_hdmi\"></a>\n",
    "\n",
    "Get `HDMIVideo` object and start video\n",
    "\n",
    "<div class=\"alert alert-heading alert-danger\">\n",
    "    <h4 class=\"alert-heading\">Warning:</h4>\n",
    "\n",
    "Failure to connect HDMI cables to a valid video source and screen may cause the notebook to hang\n",
    "</div>"
   ]
  },
  {
   "cell_type": "code",
   "execution_count": 2,
   "metadata": {},
   "outputs": [],
   "source": [
    "video = HDMIVideo(ol)\n",
    "video.start()"
   ]
  },
  {
   "cell_type": "markdown",
   "metadata": {},
   "source": [
    "## Let us Compose <a class=\"anchor\" id=\"compose\"></a>\n",
    "\n",
    "First we need to grab handlers to the IP objects to simplify the notebook"
   ]
  },
  {
   "cell_type": "code",
   "execution_count": 3,
   "metadata": {},
   "outputs": [],
   "source": [
    "video_in_in = cpipe.video.hdmi_in.color_convert\n",
    "video_in_out = cpipe.video.hdmi_in.pixel_pack\n",
    "\n",
    "lut = cpipe.video.composable.lut_accel"
   ]
  },
  {
   "cell_type": "markdown",
   "metadata": {},
   "source": [
    "Let us read the documentation on the method `.compose`"
   ]
  },
  {
   "cell_type": "code",
   "execution_count": 4,
   "metadata": {},
   "outputs": [],
   "source": [
    "cpipe.compose?"
   ]
  },
  {
   "cell_type": "markdown",
   "metadata": {},
   "source": [
    "This method expect a list with the IP object, based on this list the pipeline will be configured on our FPGA. After you run the next cell the video stream on your monitor should change,"
   ]
  },
  {
   "cell_type": "code",
   "execution_count": 5,
   "metadata": {},
   "outputs": [],
   "source": [
    "video_pipeline = [video_in_in, lut, video_in_out]\n",
    "\n",
    "cpipe.compose(video_pipeline)"
   ]
  },
  {
   "cell_type": "markdown",
   "metadata": {},
   "source": [
    "## Visualize the Pipeline <a class=\"anchor\" id=\"visualize\"></a>\n",
    "\n",
    "We can visualize the implemented pipeline with the `.graph` attribute. This allows to quickly verify the pipeline"
   ]
  },
  {
   "cell_type": "code",
   "execution_count": 6,
   "metadata": {},
   "outputs": [
    {
     "data": {
      "image/svg+xml": [
       "<?xml version=\"1.0\" encoding=\"UTF-8\" standalone=\"no\"?>\n",
       "<!DOCTYPE svg PUBLIC \"-//W3C//DTD SVG 1.1//EN\"\n",
       " \"http://www.w3.org/Graphics/SVG/1.1/DTD/svg11.dtd\">\n",
       "<!-- Generated by graphviz version 2.40.1 (20161225.0304)\n",
       " -->\n",
       "<!-- Title: %4714312 Pages: 1 -->\n",
       "<svg width=\"435pt\" height=\"44pt\"\n",
       " viewBox=\"0.00 0.00 435.00 44.00\" xmlns=\"http://www.w3.org/2000/svg\" xmlns:xlink=\"http://www.w3.org/1999/xlink\">\n",
       "<g id=\"graph0\" class=\"graph\" transform=\"scale(1 1) rotate(0) translate(4 40)\">\n",
       "<title>%4714312</title>\n",
       "<polygon fill=\"#ffffff\" stroke=\"transparent\" points=\"-4,4 -4,-40 431,-40 431,4 -4,4\"/>\n",
       "<!-- color_convert -->\n",
       "<g id=\"node1\" class=\"node\">\n",
       "<title>color_convert</title>\n",
       "<polygon fill=\"none\" stroke=\"#000000\" points=\"92,-36 0,-36 0,0 92,0 92,-36\"/>\n",
       "<text text-anchor=\"middle\" x=\"46\" y=\"-14.3\" font-family=\"Times,serif\" font-size=\"14.00\" fill=\"#000000\">color_convert</text>\n",
       "</g>\n",
       "<!-- lut_accel -->\n",
       "<g id=\"node2\" class=\"node\">\n",
       "<title>lut_accel</title>\n",
       "<polygon fill=\"none\" stroke=\"#000000\" points=\"254,-36 189,-36 189,0 254,0 254,-36\"/>\n",
       "<text text-anchor=\"middle\" x=\"221.5\" y=\"-14.3\" font-family=\"Times,serif\" font-size=\"14.00\" fill=\"#000000\">lut_accel</text>\n",
       "</g>\n",
       "<!-- color_convert&#45;&gt;lut_accel -->\n",
       "<g id=\"edge1\" class=\"edge\">\n",
       "<title>color_convert&#45;&gt;lut_accel</title>\n",
       "<path fill=\"none\" stroke=\"#00ff00\" d=\"M92.1106,-18C119.0075,-18 152.6992,-18 178.9594,-18\"/>\n",
       "<polygon fill=\"#00ff00\" stroke=\"#00ff00\" points=\"178.9909,-21.5001 188.9908,-18 178.9908,-14.5001 178.9909,-21.5001\"/>\n",
       "<text text-anchor=\"start\" x=\"110\" y=\"-21.8\" font-family=\"Times,serif\" font-size=\"14.00\" fill=\"#ffffff\">ci=0 pi=13</text>\n",
       "</g>\n",
       "<!-- pixel_pack -->\n",
       "<g id=\"node3\" class=\"node\">\n",
       "<title>pixel_pack</title>\n",
       "<polygon fill=\"none\" stroke=\"#000000\" points=\"427,-36 351,-36 351,0 427,0 427,-36\"/>\n",
       "<text text-anchor=\"middle\" x=\"389\" y=\"-14.3\" font-family=\"Times,serif\" font-size=\"14.00\" fill=\"#000000\">pixel_pack</text>\n",
       "</g>\n",
       "<!-- lut_accel&#45;&gt;pixel_pack -->\n",
       "<g id=\"edge2\" class=\"edge\">\n",
       "<title>lut_accel&#45;&gt;pixel_pack</title>\n",
       "<path fill=\"none\" stroke=\"#00ff00\" d=\"M254.1933,-18C278.7599,-18 312.8042,-18 340.5335,-18\"/>\n",
       "<polygon fill=\"#00ff00\" stroke=\"#00ff00\" points=\"340.819,-21.5001 350.8189,-18 340.8189,-14.5001 340.819,-21.5001\"/>\n",
       "<text text-anchor=\"start\" x=\"272\" y=\"-21.8\" font-family=\"Times,serif\" font-size=\"14.00\" fill=\"#ffffff\">ci=13 pi=0</text>\n",
       "</g>\n",
       "</g>\n",
       "</svg>\n"
      ],
      "text/plain": [
       "<graphviz.dot.Digraph at 0xa64cce30>"
      ]
     },
     "execution_count": 6,
     "metadata": {},
     "output_type": "execute_result"
    }
   ],
   "source": [
    "cpipe.graph"
   ]
  },
  {
   "cell_type": "markdown",
   "metadata": {},
   "source": [
    "## Play with the LUT IP <a class=\"anchor\" id=\"play\"></a>\n",
    "\n",
    "The LUT is one of the IP available on the static region of the composable overlay, this IP allows further runtime configuration with predefined kernels"
   ]
  },
  {
   "cell_type": "code",
   "execution_count": 7,
   "metadata": {},
   "outputs": [
    {
     "data": {
      "text/plain": [
       "['negative',\n",
       " 'original',\n",
       " 'binary_threshold',\n",
       " 'group_bin',\n",
       " 'offset',\n",
       " 'threshold',\n",
       " 'random']"
      ]
     },
     "execution_count": 7,
     "metadata": {},
     "output_type": "execute_result"
    }
   ],
   "source": [
    "lut.kernel_list"
   ]
  },
  {
   "cell_type": "markdown",
   "metadata": {},
   "source": [
    "The next cell will change the kernel type of the LUT IP every second, you should appreciate the change on the output video"
   ]
  },
  {
   "cell_type": "code",
   "execution_count": 8,
   "metadata": {},
   "outputs": [],
   "source": [
    "import time\n",
    "for i in lut.kernel_list:\n",
    "    lut.kernel_type = i\n",
    "    time.sleep(1)"
   ]
  },
  {
   "cell_type": "markdown",
   "metadata": {},
   "source": [
    "## Stop HDMI Video <a class=\"anchor\" id=\"stop_hdmi\"></a>\n",
    "\n",
    "Finally stop the HDMI video pipeline\n",
    "\n",
    "<div class=\"alert alert-heading alert-danger\">\n",
    "    <h4 class=\"alert-heading\">Warning:</h4>\n",
    "\n",
    "Failure to stop the HDMI Video may hang the board \n",
    "when trying to download another bitstream onto the FPGA\n",
    "</div>"
   ]
  },
  {
   "cell_type": "code",
   "execution_count": 6,
   "metadata": {},
   "outputs": [],
   "source": [
    "video.stop()"
   ]
  },
  {
   "cell_type": "markdown",
   "metadata": {},
   "source": [
    "----\n",
    "\n",
    "## Conclusion <a class=\"anchor\" id=\"conclusion\"></a>\n",
    "\n",
    "This notebook has shown how to compose a simple pipeline, how to visualize what has been implemented and how to interact with one of the IP objects on pipeline\n",
    "\n",
    "[⬅️ Composable Overlay Introduction](01_composable_overlay_intro.ipynb) | | [Introspect Composable Pipeline ➡️](03_introspect_pipeline.ipynb)"
   ]
  },
  {
   "cell_type": "markdown",
   "metadata": {},
   "source": [
    "Copyright &copy; 2021 Xilinx, Inc\n",
    "\n",
    "SPDX-License-Identifier: BSD-3-Clause\n",
    "\n",
    "----"
   ]
  }
 ],
 "metadata": {
  "kernelspec": {
   "display_name": "Python 3",
   "language": "python",
   "name": "python3"
  },
  "language_info": {
   "codemirror_mode": {
    "name": "ipython",
    "version": 3
   },
   "file_extension": ".py",
   "mimetype": "text/x-python",
   "name": "python",
   "nbconvert_exporter": "python",
   "pygments_lexer": "ipython3",
   "version": "3.6.5"
  },
  "widgets": {
   "application/vnd.jupyter.widget-state+json": {
    "state": {},
    "version_major": 2,
    "version_minor": 0
   }
  }
 },
 "nbformat": 4,
 "nbformat_minor": 4
}
